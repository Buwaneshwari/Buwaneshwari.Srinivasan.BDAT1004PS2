{
 "cells": [
  {
   "cell_type": "markdown",
   "id": "3a6a4f83",
   "metadata": {},
   "source": [
    "# PROBLEM SET 2"
   ]
  },
  {
   "cell_type": "markdown",
   "id": "7eb6a498",
   "metadata": {},
   "source": [
    "## Question 1"
   ]
  },
  {
   "cell_type": "markdown",
   "id": "cc4cb2cc",
   "metadata": {},
   "source": [
    "### What value is displayed when the last expression (a) is evaluated? Explain your answer by indicating what happens in every executed statement."
   ]
  },
  {
   "cell_type": "code",
   "execution_count": 7,
   "id": "f5d1641a",
   "metadata": {},
   "outputs": [
    {
     "name": "stdout",
     "output_type": "stream",
     "text": [
      "Output After calling b(), a = 2\n",
      "Output After calling b(), a = 4\n",
      "Output After calling b(), a = 6\n",
      ">>> a  6\n"
     ]
    }
   ],
   "source": [
    "a = 0\n",
    "\n",
    "def b():\n",
    "    global a\n",
    "    a = c(a)\n",
    "    print(f\"Output After calling b(), a = {a}\") \n",
    "\n",
    "def c(a):\n",
    "    return a + 2\n",
    "b()  \n",
    "b()  \n",
    "b()  \n",
    "\n",
    "print(\">>> a \", a)  \n"
   ]
  },
  {
   "cell_type": "markdown",
   "id": "4cf70bc4",
   "metadata": {},
   "source": [
    "### After importing the module, the following statements are executed in sequence:\n",
    "\n",
    "### First call to function b():\n",
    "b() is called.\n",
    "Inside b, global a is declared, so the global a is used.\n",
    "a = c(a) is executed, where c(a) is called with the current value of a (which is 0).\n",
    "#### c(0) returns 0 + 2 = 2.\n",
    "Now a's value is updated to 2.\n",
    "\n",
    "### Second call to function b():\n",
    "Inside b, global a is declared again, so the global a is used.\n",
    "a = c(a) is executed, where c(a) is called with the current value of a (which is now 2).\n",
    "#### c(2) returns 2 + 2 = 4.\n",
    "a is updated to 4.\n",
    "\n",
    "### Third call to b():\n",
    "b() is called once more.\n",
    "Inside b, global a is declared again, so the global a is used.\n",
    "a = c(a) is executed, where c(a) is called with the current value of a (which is now 4).\n",
    "#### c(4) returns 4 + 2 = 6.\n",
    "a is updated to 6.\n",
    "\n",
    "### Final Value of a\n",
    "After executing b() three times, the final value of a is:\n",
    "a=6"
   ]
  },
  {
   "cell_type": "markdown",
   "id": "f11c8346",
   "metadata": {},
   "source": [
    "## Question 2"
   ]
  },
  {
   "cell_type": "markdown",
   "id": "e9e0de0e",
   "metadata": {},
   "source": [
    "### Function fileLength(), given to you, takes the name of a file as input and returns the length of the file: exception handling"
   ]
  },
  {
   "cell_type": "code",
   "execution_count": 1,
   "id": "7438020c",
   "metadata": {},
   "outputs": [
    {
     "name": "stdout",
     "output_type": "stream",
     "text": [
      "file Length of Filelength.txt: 123\n",
      "File idterm.py not found.\n",
      "None\n"
     ]
    }
   ],
   "source": [
    "def fileLength(filename):\n",
    "    try:\n",
    "        with open(filename, 'r') as infile:\n",
    "            content = infile.read()\n",
    "            return len(content)\n",
    "    except FileNotFoundError:\n",
    "        print(f\"File {filename} not found.\")\n",
    "\n",
    "\n",
    "print(\"file Length of Filelength.txt:\",fileLength('Filelength.txt'))  \n",
    "print(fileLength('idterm.py'))   \n"
   ]
  },
  {
   "cell_type": "markdown",
   "id": "decec13b",
   "metadata": {},
   "source": [
    "### Question 3\n",
    "### Now write a class named Kangaroo as a subclass of Marsupial that inherits all the attributes of Marsupial and also: \n",
    "### a.extends the Marsupial __init__ constructor to take, as input, the coordinates x and y of the Kangaroo object, \n",
    "### b.supports method jump that takes number values dx and dy as input and moves the kangaroo by dx units along the x-axis and by dy units along the y-axis, and \n",
    "### c. overloads the __str__ operator so it behaves as shown below."
   ]
  },
  {
   "cell_type": "code",
   "execution_count": 14,
   "id": "ea35c447",
   "metadata": {},
   "outputs": [
    {
     "name": "stdout",
     "output_type": "stream",
     "text": [
      "['doll', 'firetruck', 'kitten']\n",
      "I am a Kangaroo located at coordinates (0,0)\n",
      "['doll', 'firetruck', 'kitten']\n",
      "I am a Kangaroo located at coordinates (3,0)\n"
     ]
    }
   ],
   "source": [
    "class Marsupial:\n",
    "    def __init__(self):\n",
    "        self.pouch = []\n",
    "\n",
    "    def put_in_pouch(self, item):\n",
    "        self.pouch.append(item)\n",
    "\n",
    "    def pouch_contents(self):\n",
    "        return self.pouch\n",
    "\n",
    "class Kangaroo(Marsupial):\n",
    "    def __init__(self, x, y):\n",
    "        super().__init__() \n",
    "        self.x = x\n",
    "        self.y = y\n",
    "\n",
    "    def jump(self, dx, dy):\n",
    "        self.x += dx\n",
    "        self.y += dy\n",
    "\n",
    "    def __str__(self):\n",
    "        return f\"I am a Kangaroo located at coordinates ({self.x},{self.y})\"\n",
    "\n",
    "\n",
    "m = Marsupial()\n",
    "m.put_in_pouch('doll')\n",
    "m.put_in_pouch('firetruck')\n",
    "m.put_in_pouch('kitten')\n",
    "print(m.pouch_contents())  \n",
    "\n",
    "k = Kangaroo(0, 0)\n",
    "print(k)  \n",
    "k.put_in_pouch('doll')\n",
    "k.put_in_pouch('firetruck')\n",
    "k.put_in_pouch('kitten')\n",
    "print(k.pouch_contents())  \n",
    "k.jump(1, 0)\n",
    "k.jump(1, 0)\n",
    "k.jump(1, 0)\n",
    "print(k)  \n"
   ]
  },
  {
   "cell_type": "markdown",
   "id": "cb14f7b6",
   "metadata": {},
   "source": [
    "### Question 4 \n",
    "### Write function collatz() that takes a positive integer x as input and prints the Collatz sequence starting at x. A Collatz sequence is obtained by repeatedly applying this rule to the previous number x in the sequence:\n",
    "### x = { 𝑥/2 𝑖𝑓 𝑥 𝑖𝑠 𝑒𝑣𝑒𝑛\n",
    "  ###      3𝑥+1 𝑖𝑓 𝑥 𝑖𝑠 𝑜𝑑𝑑\n",
    "\n",
    "### Your function should stop when the sequence gets to number 1. Your implementation must be recursive, without any loops."
   ]
  },
  {
   "cell_type": "code",
   "execution_count": 16,
   "id": "1712a8ea",
   "metadata": {},
   "outputs": [
    {
     "name": "stdout",
     "output_type": "stream",
     "text": [
      "1\n",
      "------\n",
      "10\n",
      "5\n",
      "16\n",
      "8\n",
      "4\n",
      "2\n",
      "1\n"
     ]
    }
   ],
   "source": [
    "def collatz(x):\n",
    "    print(x)\n",
    "    if x == 1:\n",
    "        return\n",
    "    elif x % 2 == 0:\n",
    "        collatz(x // 2)  \n",
    "    else:\n",
    "        collatz(3 * x + 1) \n",
    "\n",
    "\n",
    "collatz(1)\n",
    "print(\"------\")\n",
    "collatz(10) \n"
   ]
  },
  {
   "cell_type": "markdown",
   "id": "9c2c4343",
   "metadata": {},
   "source": [
    "### Question 5 \n",
    "### Write a recursive method binary() that takes a non-negative integer n and prints the binary representation of integer n."
   ]
  },
  {
   "cell_type": "code",
   "execution_count": 7,
   "id": "22146875",
   "metadata": {},
   "outputs": [
    {
     "name": "stdout",
     "output_type": "stream",
     "text": [
      "binary of 0 is :\n",
      "0\n",
      "binary of 1 is :\n",
      "1\n",
      "binary of 3 is :\n",
      "11\n",
      "binary of 9 is :\n",
      "1001\n"
     ]
    }
   ],
   "source": [
    "def binary(n):\n",
    "    \n",
    "    if n < 2:\n",
    "        print(n, end='') \n",
    "    else:\n",
    "         \n",
    "        binary(n // 2)\n",
    "        \n",
    "        print(n % 2, end='')\n",
    "\n",
    "print(\"binary of 0 is :\") \n",
    "binary(0)  \n",
    "print() \n",
    "print(\"binary of 1 is :\") \n",
    "binary(1)  \n",
    "print() \n",
    "print(\"binary of 3 is :\") \n",
    "binary(3)  \n",
    "print() \n",
    "print(\"binary of 9 is :\") \n",
    "binary(9)  \n",
    "print()  \n"
   ]
  },
  {
   "cell_type": "markdown",
   "id": "551daecf",
   "metadata": {},
   "source": [
    "### Question 6 \n",
    "### Implement a class named HeadingParser that can be used to parse an HTML document, and retrieve and print all the headings in the document."
   ]
  },
  {
   "cell_type": "code",
   "execution_count": 22,
   "id": "14a76f17",
   "metadata": {},
   "outputs": [
    {
     "name": "stdout",
     "output_type": "stream",
     "text": [
      "W3C Mission\n",
      " Principles\n"
     ]
    }
   ],
   "source": [
    "from html.parser import HTMLParser\n",
    "\n",
    "class HeadingParser(HTMLParser):\n",
    "    def __init__(self):\n",
    "        super().__init__()\n",
    "        self.in_heading = False\n",
    "        self.heading_level = 0\n",
    "\n",
    "    def handle_starttag(self, tag, attrs):\n",
    "        if tag in ['h1', 'h2', 'h3', 'h4', 'h5', 'h6']:\n",
    "            self.in_heading = True\n",
    "            self.heading_level = int(tag[1])\n",
    "\n",
    "    def handle_endtag(self, tag):\n",
    "        if tag in ['h1', 'h2', 'h3', 'h4', 'h5', 'h6']:\n",
    "            self.in_heading = False\n",
    "\n",
    "    def handle_data(self, data):\n",
    "        if self.in_heading:\n",
    "            print(' ' * (self.heading_level - 1) + data.strip())\n",
    "\n",
    "infile = open('w3c.html')\n",
    "content = infile.read()\n",
    "infile.close()\n",
    "\n",
    "\n",
    "hp = HeadingParser()\n",
    "hp.feed(content)\n",
    "\n"
   ]
  },
  {
   "cell_type": "markdown",
   "id": "57376da0",
   "metadata": {},
   "source": [
    "### Question 7"
   ]
  },
  {
   "cell_type": "code",
   "execution_count": 16,
   "id": "ebcc200a",
   "metadata": {},
   "outputs": [
    {
     "name": "stdout",
     "output_type": "stream",
     "text": [
      "http://reed.cs.depaul.edu/lperkovic/csc242/test1.html\n",
      "http://reed.cs.depaul.edu/lperkovic/csc242/test2.html\n",
      "http://reed.cs.depaul.edu/lperkovic/csc242/test3.html\n",
      "http://reed.cs.depaul.edu/lperkovic/csc242/test4.html\n"
     ]
    }
   ],
   "source": [
    "import requests\n",
    "from bs4 import BeautifulSoup\n",
    "\n",
    "def webdir(url, depth, indent):\n",
    "    print(' ' * indent + url)\n",
    "    \n",
    "    if depth == 0:\n",
    "        return\n",
    "    \n",
    "    try:\n",
    "        response = requests.get(url)\n",
    "        content = response.content\n",
    "        \n",
    "        soup = BeautifulSoup(content, 'html.parser')\n",
    "        \n",
    "        links = soup.find_all('a', href=True)\n",
    "        \n",
    "        for link in links:\n",
    "            next_url = link['href']\n",
    "            if not next_url.startswith('http'):\n",
    "                next_url = requests.compat.urljoin(url, next_url)\n",
    "            webdir(next_url, depth - 1, indent + 2)\n",
    "    except requests.exceptions.RequestException as e:\n",
    "        print(f\"Failed to retrieve {url}: {e}\")\n",
    "\n",
    "webdir('http://reed.cs.depaul.edu/lperkovic/csc242/test1.html', 2, 0)\n",
    "webdir('http://reed.cs.depaul.edu/lperkovic/csc242/test2.html', 2, 0)\n",
    "webdir('http://reed.cs.depaul.edu/lperkovic/csc242/test3.html', 2, 0)\n",
    "webdir('http://reed.cs.depaul.edu/lperkovic/csc242/test4.html', 2, 0)\n",
    "\n"
   ]
  },
  {
   "cell_type": "markdown",
   "id": "6d4623a1",
   "metadata": {},
   "source": [
    "### Question 8"
   ]
  },
  {
   "cell_type": "code",
   "execution_count": 18,
   "id": "3746de1f",
   "metadata": {},
   "outputs": [
    {
     "name": "stdout",
     "output_type": "stream",
     "text": [
      "All the temperature data:\n",
      "('Mumbai', 'India', 'Winter', 24.8, 5.9)\n",
      "('Mumbai', 'India', 'Spring', 28.4, 16.2)\n",
      "('Mumbai', 'India', 'Summer', 27.9, 1549.4)\n",
      "('Mumbai', 'India', 'Fall', 27.6, 346.0)\n",
      "('London', 'United Kingdom', 'Winter', 4.2, 207.7)\n",
      "('London', 'United Kingdom', 'Spring', 8.3, 169.6)\n",
      "('London', 'United Kingdom', 'Summer', 15.7, 157.0)\n",
      "('London', 'United Kingdom', 'Fall', 10.4, 218.5)\n",
      "('Cairo', 'Egypt', 'Winter', 13.6, 16.5)\n",
      "('Cairo', 'Egypt', 'Spring', 20.7, 6.5)\n",
      "('Cairo', 'Egypt', 'Summer', 27.7, 0.1)\n",
      "('Cairo', 'Egypt', 'Fall', 22.2, 4.5)\n",
      "All the distinct cities from table :\n",
      "('Mumbai',)\n",
      "('London',)\n",
      "('Cairo',)\n",
      "All records for India:\n",
      "('Mumbai', 'India', 'Winter', 24.8, 5.9)\n",
      "('Mumbai', 'India', 'Spring', 28.4, 16.2)\n",
      "('Mumbai', 'India', 'Summer', 27.9, 1549.4)\n",
      "('Mumbai', 'India', 'Fall', 27.6, 346.0)\n",
      "All Fall records:\n",
      "('Mumbai', 'India', 'Fall', 27.6, 346.0)\n",
      "('London', 'United Kingdom', 'Fall', 10.4, 218.5)\n",
      "('Cairo', 'Egypt', 'Fall', 22.2, 4.5)\n",
      "The city, country, and season where average rainfall is between 200 and 400 mm:\n",
      "('Mumbai', 'India', 'Fall')\n",
      "('London', 'United Kingdom', 'Winter')\n",
      "('London', 'United Kingdom', 'Fall')\n",
      "The city and country where average Fall temperature is above 20 degrees, in increasing temperature order:\n",
      "('Cairo', 'Egypt')\n",
      "('Mumbai', 'India')\n",
      "Total Annual Rainfall for Cairo: 27.6\n",
      "Season: Fall, Total Rainfall: 569.0\n",
      "Season: Spring, Total Rainfall: 192.29999999999998\n",
      "Season: Summer, Total Rainfall: 1706.5\n",
      "Season: Winter, Total Rainfall: 230.1\n"
     ]
    }
   ],
   "source": [
    "import sqlite3\n",
    "\n",
    "\n",
    "conn = sqlite3.connect('weather.db')\n",
    "cursor = conn.cursor()\n",
    "\n",
    "\n",
    "cursor.execute('''\n",
    "CREATE TABLE IF NOT EXISTS Weather (\n",
    "    City TEXT,\n",
    "    Country TEXT,\n",
    "    Season TEXT,\n",
    "    Temperature REAL,\n",
    "    Rainfall REAL\n",
    ")\n",
    "''')\n",
    "\n",
    "\n",
    "data = [\n",
    "    ('Mumbai', 'India', 'Winter', 24.8, 5.9),\n",
    "    ('Mumbai', 'India', 'Spring', 28.4, 16.2),\n",
    "    ('Mumbai', 'India', 'Summer', 27.9, 1549.4),\n",
    "    ('Mumbai', 'India', 'Fall', 27.6, 346.0),\n",
    "    ('London', 'United Kingdom', 'Winter', 4.2, 207.7),\n",
    "    ('London', 'United Kingdom', 'Spring', 8.3, 169.6),\n",
    "    ('London', 'United Kingdom', 'Summer', 15.7, 157.0),\n",
    "    ('London', 'United Kingdom', 'Fall', 10.4, 218.5),\n",
    "    ('Cairo', 'Egypt', 'Winter', 13.6, 16.5),\n",
    "    ('Cairo', 'Egypt', 'Spring', 20.7, 6.5),\n",
    "    ('Cairo', 'Egypt', 'Summer', 27.7, 0.1),\n",
    "    ('Cairo', 'Egypt', 'Fall', 22.2, 4.5)\n",
    "]\n",
    "\n",
    "cursor.executemany('''\n",
    "INSERT INTO Weather (City, Country, Season, Temperature, Rainfall)\n",
    "VALUES (?, ?, ?, ?, ?)\n",
    "''', data)\n",
    "\n",
    "conn.commit()\n",
    "\n",
    "\n",
    "cursor.execute('SELECT * FROM Weather')\n",
    "rows = cursor.fetchall()\n",
    "print(\"All the temperature data:\")\n",
    "for row in rows:\n",
    "    print(row)\n",
    "    \n",
    "cursor.execute('SELECT DISTINCT City FROM Weather')\n",
    "rows = cursor.fetchall()\n",
    "print(\"All the distinct cities from table :\")\n",
    "for row in rows:\n",
    "    print(row)\n",
    "\n",
    "cursor.execute('SELECT * FROM Weather WHERE Country=\"India\"')\n",
    "rows = cursor.fetchall()\n",
    "\n",
    "print(\"All records for India:\")\n",
    "for row in rows:\n",
    "    print(row)\n",
    "    \n",
    "cursor.execute('SELECT * FROM Weather WHERE Season=\"Fall\"')\n",
    "rows = cursor.fetchall()\n",
    "\n",
    "print(\"All Fall records:\")\n",
    "for row in rows:\n",
    "    print(row)\n",
    "    \n",
    "query = '''\n",
    "SELECT City, Country, Season\n",
    "FROM Weather\n",
    "WHERE Rainfall BETWEEN 200 AND 400\n",
    "'''\n",
    "cursor.execute(query)\n",
    "results = cursor.fetchall()\n",
    "\n",
    "print(\"The city, country, and season where average rainfall is between 200 and 400 mm:\")\n",
    "for row in results:\n",
    "    print(row)\n",
    "\n",
    "query = '''\n",
    "SELECT City, Country\n",
    "FROM Weather\n",
    "WHERE Season = 'Fall' AND Temperature > 20\n",
    "ORDER BY Temperature ASC\n",
    "'''\n",
    "cursor.execute(query)\n",
    "results = cursor.fetchall()\n",
    "\n",
    "print(\"The city and country where average Fall temperature is above 20 degrees, in increasing temperature order:\")\n",
    "for row in results:\n",
    "    print(row)\n",
    "    \n",
    "query = '''\n",
    "SELECT SUM(Rainfall) AS TotalAnnualRainfall\n",
    "FROM Weather\n",
    "WHERE City = 'Cairo'\n",
    "'''\n",
    "\n",
    "cursor.execute(query)\n",
    "result = cursor.fetchone()\n",
    "\n",
    "print(\"Total Annual Rainfall for Cairo:\", result[0])\n",
    "\n",
    "query = '''\n",
    "SELECT Season, SUM(Rainfall) AS TotalRainfall\n",
    "FROM Weather\n",
    "GROUP BY Season\n",
    "'''\n",
    "\n",
    "cursor.execute(query)\n",
    "results = cursor.fetchall()\n",
    "\n",
    "for row in results:\n",
    "    print(f\"Season: {row[0]}, Total Rainfall: {row[1]}\")\n",
    "\n",
    "conn.close()\n",
    "\n"
   ]
  },
  {
   "cell_type": "markdown",
   "id": "b872c5c0",
   "metadata": {},
   "source": [
    "### Question 9\n",
    "### Suppose list words is defined as follows: \n",
    "### >>> words = ['The', 'quick', 'brown', 'fox', 'jumps', 'over', 'the', 'lazy', 'dog']\n",
    "### Write list comprehension expressions that use list words and generate the following lists:"
   ]
  },
  {
   "cell_type": "code",
   "execution_count": 20,
   "id": "c320148b",
   "metadata": {},
   "outputs": [
    {
     "name": "stdout",
     "output_type": "stream",
     "text": [
      "Upper words are :  ['THE', 'QUICK', 'BROWN', 'FOX', 'JUMPS', 'OVER', 'THE', 'LAZY', 'DOG']\n",
      "Lower words are : ['the', 'quick', 'brown', 'fox', 'jumps', 'over', 'the', 'lazy', 'dog']\n",
      "Length of the words are: [3, 5, 5, 3, 5, 4, 3, 4, 3]\n",
      "Combination of all the info: [['THE', 'the', 3], ['QUICK', 'quick', 5], ['BROWN', 'brown', 5], ['FOX', 'fox', 3], ['JUMPS', 'jumps', 5], ['OVER', 'over', 4], ['THE', 'the', 3], ['LAZY', 'lazy', 4], ['DOG', 'dog', 3]]\n",
      "the long words are:  ['quick', 'brown', 'jumps', 'over', 'lazy']\n"
     ]
    }
   ],
   "source": [
    "words = ['The', 'quick', 'brown', 'fox', 'jumps', 'over', 'the', 'lazy', 'dog']\n",
    "\n",
    "upper_words = [word.upper() for word in words]\n",
    "print(\"Upper words are : \",upper_words)  \n",
    "\n",
    "lower_words = [word.lower() for word in words]\n",
    "print(\"Lower words are :\",lower_words)  \n",
    "\n",
    "\n",
    "word_lengths = [len(word) for word in words]\n",
    "print(\"Length of the words are:\",word_lengths)  \n",
    "\n",
    "combined_info = [[word.upper(), word.lower(), len(word)] for word in words]\n",
    "print(\"Combination of all the info:\",combined_info) \n",
    "\n",
    "long_words = [word for word in words if len(word) >= 4]\n",
    "print(\"the long words are: \",long_words)\n"
   ]
  }
 ],
 "metadata": {
  "kernelspec": {
   "display_name": "Python 3 (ipykernel)",
   "language": "python",
   "name": "python3"
  },
  "language_info": {
   "codemirror_mode": {
    "name": "ipython",
    "version": 3
   },
   "file_extension": ".py",
   "mimetype": "text/x-python",
   "name": "python",
   "nbconvert_exporter": "python",
   "pygments_lexer": "ipython3",
   "version": "3.10.9"
  }
 },
 "nbformat": 4,
 "nbformat_minor": 5
}
